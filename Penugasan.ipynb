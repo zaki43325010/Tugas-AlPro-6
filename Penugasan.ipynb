{
  "nbformat": 4,
  "nbformat_minor": 0,
  "metadata": {
    "colab": {
      "provenance": [],
      "authorship_tag": "ABX9TyPGb6Yq+toNC8YJA49Dd348",
      "include_colab_link": true
    },
    "kernelspec": {
      "name": "python3",
      "display_name": "Python 3"
    },
    "language_info": {
      "name": "python"
    }
  },
  "cells": [
    {
      "cell_type": "markdown",
      "metadata": {
        "id": "view-in-github",
        "colab_type": "text"
      },
      "source": [
        "<a href=\"https://colab.research.google.com/github/zaki43325010/Tugas-AlPro-6/blob/main/Penugasan.ipynb\" target=\"_parent\"><img src=\"https://colab.research.google.com/assets/colab-badge.svg\" alt=\"Open In Colab\"/></a>"
      ]
    },
    {
      "cell_type": "markdown",
      "source": [
        "#1.\tAkses Elemen List"
      ],
      "metadata": {
        "id": "Rytm-9WEDrOU"
      }
    },
    {
      "cell_type": "code",
      "execution_count": 1,
      "metadata": {
        "colab": {
          "base_uri": "https://localhost:8080/"
        },
        "id": "ENWHvsZgCr93",
        "outputId": "89001241-25ac-48e9-9fd7-fcd2fe0769ca"
      },
      "outputs": [
        {
          "output_type": "stream",
          "name": "stdout",
          "text": [
            "Andi\n",
            "Cahya\n",
            "Budi\n"
          ]
        }
      ],
      "source": [
        "mahasiswa=[\"Andi\",\"Budi\",\"Bagas\",\"Bagus\",\"Cahya\"]\n",
        "print(mahasiswa[0])\n",
        "print(mahasiswa[-1])\n",
        "print(mahasiswa[1])"
      ]
    },
    {
      "cell_type": "markdown",
      "source": [
        "#2.\tOperasi Dasar List"
      ],
      "metadata": {
        "id": "QGGSVC1fFmxr"
      }
    },
    {
      "cell_type": "code",
      "source": [
        "nilai=[70,75,80]\n",
        "nilai[1]=85\n",
        "nilai.append(90)\n",
        "nilai.remove(70)\n",
        "print(nilai)"
      ],
      "metadata": {
        "colab": {
          "base_uri": "https://localhost:8080/"
        },
        "id": "oyn5C470Fnui",
        "outputId": "a9a58c5a-0674-464a-a888-8cafef617c4c"
      },
      "execution_count": 4,
      "outputs": [
        {
          "output_type": "stream",
          "name": "stdout",
          "text": [
            "[85, 80, 90]\n"
          ]
        }
      ]
    },
    {
      "cell_type": "markdown",
      "source": [
        "#3.\tSlicing List"
      ],
      "metadata": {
        "id": "7h9gKAmCGw6p"
      }
    },
    {
      "cell_type": "code",
      "source": [
        "angka=[1,2,3,4,5,6,7,8,9,10]\n",
        "print(angka[:3])\n",
        "print(angka[-4:])\n",
        "print(angka[1::2])"
      ],
      "metadata": {
        "colab": {
          "base_uri": "https://localhost:8080/"
        },
        "id": "mZlFUo8JG4Pe",
        "outputId": "82ece963-cd9d-4d82-feb8-5ee31f377eb4"
      },
      "execution_count": 20,
      "outputs": [
        {
          "output_type": "stream",
          "name": "stdout",
          "text": [
            "[1, 2, 3]\n",
            "[7, 8, 9, 10]\n",
            "[2, 4, 6, 8, 10]\n"
          ]
        }
      ]
    },
    {
      "cell_type": "markdown",
      "source": [
        "#4.\tList 2D – Matriks"
      ],
      "metadata": {
        "id": "Hq5d_Fj2GyO2"
      }
    },
    {
      "cell_type": "code",
      "source": [
        "matriks=[\n",
        "    [1,2,3],\n",
        "    [4,5,6]\n",
        "]\n",
        "print(matriks[0][1])\n",
        "print(matriks[1][2])\n",
        "print(matriks[0])"
      ],
      "metadata": {
        "colab": {
          "base_uri": "https://localhost:8080/"
        },
        "id": "3w_5qCrmG9Wa",
        "outputId": "aec999c9-71de-46b2-9b9e-6cd9198c6296"
      },
      "execution_count": 21,
      "outputs": [
        {
          "output_type": "stream",
          "name": "stdout",
          "text": [
            "2\n",
            "6\n",
            "[1, 2, 3]\n"
          ]
        }
      ]
    },
    {
      "cell_type": "markdown",
      "source": [
        "#5.\tOperasi Matriks 2D"
      ],
      "metadata": {
        "id": "NCQqnp2BGx5d"
      }
    },
    {
      "cell_type": "code",
      "source": [
        "A=[\n",
        "    [1,2,3],\n",
        "    [4,5,6]\n",
        "]\n",
        "B=[\n",
        "    [7,8,9],\n",
        "    [10,11,12]\n",
        "]\n",
        "C=[]\n",
        "for i in range(len(A)):\n",
        "  baris= []\n",
        "  for j in range(len(A[0])):\n",
        "    baris.append(A[i][j]+B[i][j])\n",
        "  C.append(baris)\n",
        "  print(C)"
      ],
      "metadata": {
        "colab": {
          "base_uri": "https://localhost:8080/"
        },
        "id": "QxBqQBPmG6z6",
        "outputId": "f4ba28ae-3afc-45dc-bd61-70c6179473c1"
      },
      "execution_count": 32,
      "outputs": [
        {
          "output_type": "stream",
          "name": "stdout",
          "text": [
            "[[8, 10, 12]]\n",
            "[[8, 10, 12], [14, 16, 18]]\n"
          ]
        }
      ]
    },
    {
      "cell_type": "markdown",
      "source": [
        "#6.\tRata-rata Nilai Mahasiswa"
      ],
      "metadata": {
        "id": "F623jnWoGxnV"
      }
    },
    {
      "cell_type": "code",
      "source": [
        "nilai=[[75,80,85],[60,70,65],[90,95,92]]\n",
        "for i, baris in enumerate(nilai, start=1):\n",
        "  rata=sum(baris)/len(baris)\n",
        "  print(f\"rata-rata mahasiswa adalah {baris}\")"
      ],
      "metadata": {
        "colab": {
          "base_uri": "https://localhost:8080/"
        },
        "id": "ySuk6ufQHC-o",
        "outputId": "847ac0f4-9301-4ab0-9815-686369ed6713"
      },
      "execution_count": 35,
      "outputs": [
        {
          "output_type": "stream",
          "name": "stdout",
          "text": [
            "rata-rata mahasiswa adalah [75, 80, 85]\n",
            "rata-rata mahasiswa adalah [60, 70, 65]\n",
            "rata-rata mahasiswa adalah [90, 95, 92]\n"
          ]
        }
      ]
    },
    {
      "cell_type": "markdown",
      "source": [
        "#7.\tStudi Kasus – Data Toko"
      ],
      "metadata": {
        "id": "8VmLsQ0CGxMq"
      }
    },
    {
      "cell_type": "code",
      "source": [
        "stock=[[\"Buku\",20],[\"Pulpen\",35], [\"Penghapus\",15]]\n",
        "for i in stock:\n",
        "  nama=i[0]\n",
        "  jumlah=i[1]\n",
        "  print(f\"Barang: {nama}, stock: {jumlah}\")\n",
        "barang=\"\"\n",
        "terbanyak=-1\n",
        "if jumlah>terbanyak:\n",
        "  terbanyak=jumlah\n",
        "  barang=nama\n",
        "print(f\"Stok barang terbanyak: {barang}, {terbanyak}\")"
      ],
      "metadata": {
        "colab": {
          "base_uri": "https://localhost:8080/"
        },
        "id": "StYlnqBcHHAW",
        "outputId": "439e0920-77fb-49e3-be8a-73e9bf923456"
      },
      "execution_count": 50,
      "outputs": [
        {
          "output_type": "stream",
          "name": "stdout",
          "text": [
            "Barang: Buku, stock: 20\n",
            "Barang: Pulpen, stock: 35\n",
            "Barang: Penghapus, stock: 15\n",
            "Stok barang terbanyak: Penghapus, 15\n"
          ]
        }
      ]
    }
  ]
}