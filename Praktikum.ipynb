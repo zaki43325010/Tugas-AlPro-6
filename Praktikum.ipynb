{
  "nbformat": 4,
  "nbformat_minor": 0,
  "metadata": {
    "colab": {
      "provenance": [],
      "authorship_tag": "ABX9TyP5/HbpYxaHzsz5Bohlagt6",
      "include_colab_link": true
    },
    "kernelspec": {
      "name": "python3",
      "display_name": "Python 3"
    },
    "language_info": {
      "name": "python"
    }
  },
  "cells": [
    {
      "cell_type": "markdown",
      "metadata": {
        "id": "view-in-github",
        "colab_type": "text"
      },
      "source": [
        "<a href=\"https://colab.research.google.com/github/zaki43325010/Tugas-AlPro-6/blob/main/Praktikum.ipynb\" target=\"_parent\"><img src=\"https://colab.research.google.com/assets/colab-badge.svg\" alt=\"Open In Colab\"/></a>"
      ]
    },
    {
      "cell_type": "markdown",
      "source": [
        "#Praktikum 01 – Membuat dan Mengakses List 1D"
      ],
      "metadata": {
        "id": "TFQTD9pjRA4u"
      }
    },
    {
      "cell_type": "code",
      "execution_count": 1,
      "metadata": {
        "colab": {
          "base_uri": "https://localhost:8080/"
        },
        "id": "x33TctaqQ_o7",
        "outputId": "283a8d80-fe56-4fb1-8029-b0fba42b7914"
      },
      "outputs": [
        {
          "output_type": "stream",
          "name": "stdout",
          "text": [
            "Andi\n",
            "Budi\n",
            "Cici\n"
          ]
        }
      ],
      "source": [
        "mahasiswa=[\"Andi\",\"Budi\",\"Cici\"]\n",
        "print(mahasiswa[0])\n",
        "print(mahasiswa[1])\n",
        "print(mahasiswa[-1])"
      ]
    },
    {
      "cell_type": "markdown",
      "source": [
        "#Praktikum 02 – Update dan Operasi Dasar List"
      ],
      "metadata": {
        "id": "BxAUF5AdRdNX"
      }
    },
    {
      "cell_type": "code",
      "source": [
        "nilai=[85,90,78]\n",
        "nilai[1]=95\n",
        "nilai.append(100)\n",
        "nilai.remove(78)\n",
        "print(nilai)"
      ],
      "metadata": {
        "colab": {
          "base_uri": "https://localhost:8080/"
        },
        "id": "nBxWnD05RgHM",
        "outputId": "657af3eb-c8b3-4d4f-c64e-ced2603e707b"
      },
      "execution_count": 2,
      "outputs": [
        {
          "output_type": "stream",
          "name": "stdout",
          "text": [
            "[85, 95, 100]\n"
          ]
        }
      ]
    },
    {
      "cell_type": "markdown",
      "source": [
        "#Praktikum 03 – Slicing List"
      ],
      "metadata": {
        "id": "3FJRoyWmR2oz"
      }
    },
    {
      "cell_type": "code",
      "source": [
        "nilai=[85,90,78,92,88]\n",
        "print(nilai[0:3])\n",
        "print(nilai[2:])\n",
        "print(nilai[:3])"
      ],
      "metadata": {
        "colab": {
          "base_uri": "https://localhost:8080/"
        },
        "id": "5Bj1hmKJR3sU",
        "outputId": "f748f146-f581-4684-a036-1eeb67be1aba"
      },
      "execution_count": 4,
      "outputs": [
        {
          "output_type": "stream",
          "name": "stdout",
          "text": [
            "[85, 90, 78]\n",
            "[78, 92, 88]\n",
            "[85, 90, 78]\n"
          ]
        }
      ]
    },
    {
      "cell_type": "markdown",
      "source": [
        "#Praktikum 04 – List 2D (Matriks)"
      ],
      "metadata": {
        "id": "7_9hYEWmSOb7"
      }
    },
    {
      "cell_type": "code",
      "source": [
        "matriks=[\n",
        "    [1,2,3],\n",
        "    [4,5,6],\n",
        "    [7,8,9]\n",
        "]\n",
        "print(matriks[0][0])\n",
        "print(matriks[1][2])\n",
        "print(matriks[2])"
      ],
      "metadata": {
        "colab": {
          "base_uri": "https://localhost:8080/"
        },
        "id": "bOhIGPmHSRsU",
        "outputId": "618c7e14-f02b-4f60-9d30-8edb116fc488"
      },
      "execution_count": 6,
      "outputs": [
        {
          "output_type": "stream",
          "name": "stdout",
          "text": [
            "1\n",
            "6\n",
            "[7, 8, 9]\n"
          ]
        }
      ]
    },
    {
      "cell_type": "markdown",
      "source": [
        "#Praktikum 05 – Operasi pada List 2D"
      ],
      "metadata": {
        "id": "S2__lD_PS7pa"
      }
    },
    {
      "cell_type": "code",
      "source": [
        "A=[[1,2,3], [4,5,6]]\n",
        "B=[[7,8,9], [10,11,12]]\n",
        "C=[]\n",
        "for i in range(len(A)):\n",
        "  baris= []\n",
        "  for j in range(len(A[0])):\n",
        "    baris.append(A[i][j]+B[i][j])\n",
        "  C.append(baris)\n",
        "  print(C)"
      ],
      "metadata": {
        "colab": {
          "base_uri": "https://localhost:8080/"
        },
        "id": "d7EkH4rQWa_Z",
        "outputId": "04db1325-1f81-4081-a913-dc0914962da9"
      },
      "execution_count": 18,
      "outputs": [
        {
          "output_type": "stream",
          "name": "stdout",
          "text": [
            "[[8, 10, 12]]\n",
            "[[8, 10, 12], [14, 16, 18]]\n"
          ]
        }
      ]
    },
    {
      "cell_type": "markdown",
      "source": [
        "#Praktikum 06 – Studi Kasus: Pengelolaan Nilai Mahasiswa"
      ],
      "metadata": {
        "id": "16q8OY_AYiL_"
      }
    },
    {
      "cell_type": "code",
      "source": [
        "nilai= [\n",
        "    [80,90,85],\n",
        "    [70,75,80],\n",
        "    [88,92,84]\n",
        "]\n",
        "for i, baris in enumerate(nilai, start=1):\n",
        "  rata=sum(baris)/len(baris)\n",
        "  print(f\"Rata-rata mahasiswa {i}: {rata:.2f}\")"
      ],
      "metadata": {
        "colab": {
          "base_uri": "https://localhost:8080/"
        },
        "id": "TOVHHBWZY5YW",
        "outputId": "5ef84164-2ccb-4d63-8f0c-91e7d9c2f969"
      },
      "execution_count": 19,
      "outputs": [
        {
          "output_type": "stream",
          "name": "stdout",
          "text": [
            "Rata-rata mahasiswa 1: 85.00\n",
            "Rata-rata mahasiswa 2: 75.00\n",
            "Rata-rata mahasiswa 3: 88.00\n"
          ]
        }
      ]
    }
  ]
}